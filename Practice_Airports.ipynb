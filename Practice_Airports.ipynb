{
 "cells": [
  {
   "cell_type": "markdown",
   "metadata": {},
   "source": [
    "## Practicing_Airport dataset"
   ]
  },
  {
   "cell_type": "code",
   "execution_count": 1,
   "metadata": {},
   "outputs": [],
   "source": [
    "import networkx as nx "
   ]
  },
  {
   "cell_type": "code",
   "execution_count": 2,
   "metadata": {},
   "outputs": [],
   "source": [
    "import pandas as pd\n",
    "import numpy as np\n",
    "import math\n",
    "import matplotlib.pyplot as plt\n",
    "import importlib\n",
    "from itertools import islice #This for slice the number of iterations in the loop"
   ]
  },
  {
   "cell_type": "code",
   "execution_count": 3,
   "metadata": {},
   "outputs": [],
   "source": [
    "import PathGraphCreator as pgc\n",
    "importlib.reload(pgc);\n",
    "# If there is a way of not having cell output"
   ]
  },
  {
   "cell_type": "code",
   "execution_count": 4,
   "metadata": {},
   "outputs": [],
   "source": [
    "%matplotlib inline"
   ]
  },
  {
   "cell_type": "code",
   "execution_count": 5,
   "metadata": {},
   "outputs": [],
   "source": [
    "Airport_Codes = pd.read_csv('./Data/US_Airport_Code.txt', header=None, sep=' ')\n",
    "Airport_Loc = pd.read_csv('./Data/US_Airport_Loc.txt', sep = ' ')"
   ]
  },
  {
   "cell_type": "code",
   "execution_count": 6,
   "metadata": {},
   "outputs": [],
   "source": [
    "Airport_Codes.columns = ['From', 'To', 'Passenger_Count']"
   ]
  },
  {
   "cell_type": "code",
   "execution_count": 19,
   "metadata": {},
   "outputs": [
    {
     "data": {
      "text/html": [
       "<div>\n",
       "<style scoped>\n",
       "    .dataframe tbody tr th:only-of-type {\n",
       "        vertical-align: middle;\n",
       "    }\n",
       "\n",
       "    .dataframe tbody tr th {\n",
       "        vertical-align: top;\n",
       "    }\n",
       "\n",
       "    .dataframe thead th {\n",
       "        text-align: right;\n",
       "    }\n",
       "</style>\n",
       "<table border=\"1\" class=\"dataframe\">\n",
       "  <thead>\n",
       "    <tr style=\"text-align: right;\">\n",
       "      <th></th>\n",
       "      <th>From</th>\n",
       "      <th>To</th>\n",
       "      <th>Passenger_Count</th>\n",
       "    </tr>\n",
       "  </thead>\n",
       "  <tbody>\n",
       "    <tr>\n",
       "      <th>0</th>\n",
       "      <td>29</td>\n",
       "      <td>78</td>\n",
       "      <td>95</td>\n",
       "    </tr>\n",
       "    <tr>\n",
       "      <th>1</th>\n",
       "      <td>29</td>\n",
       "      <td>114</td>\n",
       "      <td>37483</td>\n",
       "    </tr>\n",
       "    <tr>\n",
       "      <th>2</th>\n",
       "      <td>29</td>\n",
       "      <td>117</td>\n",
       "      <td>47</td>\n",
       "    </tr>\n",
       "    <tr>\n",
       "      <th>3</th>\n",
       "      <td>29</td>\n",
       "      <td>134</td>\n",
       "      <td>16</td>\n",
       "    </tr>\n",
       "    <tr>\n",
       "      <th>4</th>\n",
       "      <td>29</td>\n",
       "      <td>169</td>\n",
       "      <td>40</td>\n",
       "    </tr>\n",
       "  </tbody>\n",
       "</table>\n",
       "</div>"
      ],
      "text/plain": [
       "   From   To  Passenger_Count\n",
       "0    29   78               95\n",
       "1    29  114            37483\n",
       "2    29  117               47\n",
       "3    29  134               16\n",
       "4    29  169               40"
      ]
     },
     "execution_count": 19,
     "metadata": {},
     "output_type": "execute_result"
    }
   ],
   "source": [
    "Airport_Codes.head()"
   ]
  },
  {
   "cell_type": "code",
   "execution_count": 20,
   "metadata": {},
   "outputs": [
    {
     "data": {
      "text/html": [
       "<div>\n",
       "<style scoped>\n",
       "    .dataframe tbody tr th:only-of-type {\n",
       "        vertical-align: middle;\n",
       "    }\n",
       "\n",
       "    .dataframe tbody tr th {\n",
       "        vertical-align: top;\n",
       "    }\n",
       "\n",
       "    .dataframe thead th {\n",
       "        text-align: right;\n",
       "    }\n",
       "</style>\n",
       "<table border=\"1\" class=\"dataframe\">\n",
       "  <thead>\n",
       "    <tr style=\"text-align: right;\">\n",
       "      <th></th>\n",
       "      <th>id</th>\n",
       "      <th>code</th>\n",
       "      <th>city</th>\n",
       "      <th>lat</th>\n",
       "      <th>lon</th>\n",
       "    </tr>\n",
       "  </thead>\n",
       "  <tbody>\n",
       "    <tr>\n",
       "      <th>0</th>\n",
       "      <td>29</td>\n",
       "      <td>ABE</td>\n",
       "      <td>Allentown</td>\n",
       "      <td>40.654722</td>\n",
       "      <td>-75.438333</td>\n",
       "    </tr>\n",
       "    <tr>\n",
       "      <th>1</th>\n",
       "      <td>30</td>\n",
       "      <td>ABI</td>\n",
       "      <td>Abilene</td>\n",
       "      <td>32.409444</td>\n",
       "      <td>-99.679722</td>\n",
       "    </tr>\n",
       "    <tr>\n",
       "      <th>2</th>\n",
       "      <td>32</td>\n",
       "      <td>ABQ</td>\n",
       "      <td>Albuquerque</td>\n",
       "      <td>35.041667</td>\n",
       "      <td>-106.606389</td>\n",
       "    </tr>\n",
       "    <tr>\n",
       "      <th>3</th>\n",
       "      <td>33</td>\n",
       "      <td>ABR</td>\n",
       "      <td>Aberdeen</td>\n",
       "      <td>45.449722</td>\n",
       "      <td>-98.421667</td>\n",
       "    </tr>\n",
       "    <tr>\n",
       "      <th>4</th>\n",
       "      <td>35</td>\n",
       "      <td>ABY</td>\n",
       "      <td>Albany</td>\n",
       "      <td>31.532222</td>\n",
       "      <td>-84.196111</td>\n",
       "    </tr>\n",
       "  </tbody>\n",
       "</table>\n",
       "</div>"
      ],
      "text/plain": [
       "   id code         city        lat         lon\n",
       "0  29  ABE    Allentown  40.654722  -75.438333\n",
       "1  30  ABI      Abilene  32.409444  -99.679722\n",
       "2  32  ABQ  Albuquerque  35.041667 -106.606389\n",
       "3  33  ABR     Aberdeen  45.449722  -98.421667\n",
       "4  35  ABY       Albany  31.532222  -84.196111"
      ]
     },
     "execution_count": 20,
     "metadata": {},
     "output_type": "execute_result"
    }
   ],
   "source": [
    "Airport_Loc.head()"
   ]
  },
  {
   "cell_type": "code",
   "execution_count": 8,
   "metadata": {},
   "outputs": [],
   "source": [
    "#Here the graph is undirected (this according to the documentation) is mainly due to equal weighting for to and fro passengers (symmetric)// This seems directed\n",
    "\n",
    "A = nx.DiGraph()\n",
    "\n",
    "for k in range(0,Airport_Codes.shape[0],1):\n",
    "    A.add_edge(int(Airport_Codes['From'][k]),int(Airport_Codes['To'][k]))\n"
   ]
  },
  {
   "cell_type": "code",
   "execution_count": 9,
   "metadata": {},
   "outputs": [],
   "source": [
    "# This is for defining the dictionary for additional attributes to the graph\n",
    "A.code = {}\n",
    "A.pos = {}\n",
    "\n",
    "for j in range(0,Airport_Loc.shape[0],1):\n",
    "    node = Airport_Loc['id'][j]\n",
    "    A.code[node] = Airport_Loc['code'][j]\n",
    "    A.pos[node] = (float(Airport_Loc['lon'][j]), float(Airport_Loc['lat'][j]))"
   ]
  },
  {
   "cell_type": "code",
   "execution_count": 10,
   "metadata": {},
   "outputs": [
    {
     "data": {
      "text/plain": [
       "5"
      ]
     },
     "execution_count": 10,
     "metadata": {},
     "output_type": "execute_result"
    }
   ],
   "source": [
    "nx.number_strongly_connected_components(A)"
   ]
  },
  {
   "cell_type": "markdown",
   "metadata": {},
   "source": [
    "### Exploring Clustering and Connectedness"
   ]
  },
  {
   "cell_type": "code",
   "execution_count": 33,
   "metadata": {},
   "outputs": [],
   "source": [
    "#Degree distribution // Could use less objects\n",
    "deg = pd.DataFrame(nx.degree(A))\n",
    "InD = pd.DataFrame(A.in_degree(nx.nodes(A)))\n",
    "OutD = pd.DataFrame(A.out_degree(nx.nodes(A)))"
   ]
  },
  {
   "cell_type": "code",
   "execution_count": 34,
   "metadata": {},
   "outputs": [
    {
     "data": {
      "text/html": [
       "<div>\n",
       "<style scoped>\n",
       "    .dataframe tbody tr th:only-of-type {\n",
       "        vertical-align: middle;\n",
       "    }\n",
       "\n",
       "    .dataframe tbody tr th {\n",
       "        vertical-align: top;\n",
       "    }\n",
       "\n",
       "    .dataframe thead th {\n",
       "        text-align: right;\n",
       "    }\n",
       "</style>\n",
       "<table border=\"1\" class=\"dataframe\">\n",
       "  <thead>\n",
       "    <tr style=\"text-align: right;\">\n",
       "      <th></th>\n",
       "      <th>0</th>\n",
       "      <th>1</th>\n",
       "    </tr>\n",
       "  </thead>\n",
       "  <tbody>\n",
       "    <tr>\n",
       "      <th>0</th>\n",
       "      <td>29</td>\n",
       "      <td>49</td>\n",
       "    </tr>\n",
       "    <tr>\n",
       "      <th>1</th>\n",
       "      <td>78</td>\n",
       "      <td>9</td>\n",
       "    </tr>\n",
       "    <tr>\n",
       "      <th>2</th>\n",
       "      <td>114</td>\n",
       "      <td>164</td>\n",
       "    </tr>\n",
       "    <tr>\n",
       "      <th>3</th>\n",
       "      <td>117</td>\n",
       "      <td>43</td>\n",
       "    </tr>\n",
       "    <tr>\n",
       "      <th>4</th>\n",
       "      <td>134</td>\n",
       "      <td>28</td>\n",
       "    </tr>\n",
       "  </tbody>\n",
       "</table>\n",
       "</div>"
      ],
      "text/plain": [
       "     0    1\n",
       "0   29   49\n",
       "1   78    9\n",
       "2  114  164\n",
       "3  117   43\n",
       "4  134   28"
      ]
     },
     "execution_count": 34,
     "metadata": {},
     "output_type": "execute_result"
    }
   ],
   "source": [
    "OutD.head()"
   ]
  },
  {
   "cell_type": "code",
   "execution_count": 35,
   "metadata": {},
   "outputs": [
    {
     "data": {
      "text/html": [
       "<div>\n",
       "<style scoped>\n",
       "    .dataframe tbody tr th:only-of-type {\n",
       "        vertical-align: middle;\n",
       "    }\n",
       "\n",
       "    .dataframe tbody tr th {\n",
       "        vertical-align: top;\n",
       "    }\n",
       "\n",
       "    .dataframe thead th {\n",
       "        text-align: right;\n",
       "    }\n",
       "</style>\n",
       "<table border=\"1\" class=\"dataframe\">\n",
       "  <thead>\n",
       "    <tr style=\"text-align: right;\">\n",
       "      <th></th>\n",
       "      <th>Node</th>\n",
       "      <th>Total Degree</th>\n",
       "      <th>In Degree</th>\n",
       "      <th>Out Degree</th>\n",
       "    </tr>\n",
       "  </thead>\n",
       "  <tbody>\n",
       "    <tr>\n",
       "      <th>0</th>\n",
       "      <td>29</td>\n",
       "      <td>112</td>\n",
       "      <td>63</td>\n",
       "      <td>49</td>\n",
       "    </tr>\n",
       "    <tr>\n",
       "      <th>1</th>\n",
       "      <td>78</td>\n",
       "      <td>19</td>\n",
       "      <td>10</td>\n",
       "      <td>9</td>\n",
       "    </tr>\n",
       "    <tr>\n",
       "      <th>2</th>\n",
       "      <td>114</td>\n",
       "      <td>321</td>\n",
       "      <td>157</td>\n",
       "      <td>164</td>\n",
       "    </tr>\n",
       "    <tr>\n",
       "      <th>3</th>\n",
       "      <td>117</td>\n",
       "      <td>96</td>\n",
       "      <td>53</td>\n",
       "      <td>43</td>\n",
       "    </tr>\n",
       "    <tr>\n",
       "      <th>4</th>\n",
       "      <td>134</td>\n",
       "      <td>64</td>\n",
       "      <td>36</td>\n",
       "      <td>28</td>\n",
       "    </tr>\n",
       "  </tbody>\n",
       "</table>\n",
       "</div>"
      ],
      "text/plain": [
       "   Node  Total Degree  In Degree  Out Degree\n",
       "0    29           112         63          49\n",
       "1    78            19         10           9\n",
       "2   114           321        157         164\n",
       "3   117            96         53          43\n",
       "4   134            64         36          28"
      ]
     },
     "execution_count": 35,
     "metadata": {},
     "output_type": "execute_result"
    }
   ],
   "source": [
    "DegreeDf = deg.merge(InD, on = 0)\n",
    "DegreeDf = DegreeDf.merge(OutD, on = 0)\n",
    "DegreeDf.columns = ['Node','Total Degree','In Degree','Out Degree']\n",
    "DegreeDf.head()"
   ]
  },
  {
   "cell_type": "code",
   "execution_count": 40,
   "metadata": {},
   "outputs": [
    {
     "data": {
      "text/plain": [
       "(405, 4)"
      ]
     },
     "execution_count": 40,
     "metadata": {},
     "output_type": "execute_result"
    }
   ],
   "source": [
    "DegreeDf.shape"
   ]
  },
  {
   "cell_type": "code",
   "execution_count": 36,
   "metadata": {},
   "outputs": [
    {
     "data": {
      "image/png": "[encoded data removed]",
      "text/plain": [
       "<Figure size 1440x360 with 3 Axes>"
      ]
     },
     "metadata": {
      "needs_background": "light"
     },
     "output_type": "display_data"
    }
   ],
   "source": [
    "fig, (ax1,ax2,ax3) = plt.subplots(1,3, figsize = (20,5))\n",
    "\n",
    "ax1.set_title('Total_Degree')\n",
    "ax1.hist(DegreeDf['Total Degree'])\n",
    "\n",
    "ax2.set_title('In_Degree')\n",
    "ax2.hist(DegreeDf['In Degree'])\n",
    "\n",
    "ax3.set_title('Out_Degree')\n",
    "ax3.hist(DegreeDf['Out Degree'])\n",
    "\n",
    "#plt.hist(OutD_c)\n",
    "plt.show()"
   ]
  },
  {
   "cell_type": "code",
   "execution_count": 46,
   "metadata": {},
   "outputs": [
    {
     "data": {
      "text/plain": [
       "405"
      ]
     },
     "execution_count": 46,
     "metadata": {},
     "output_type": "execute_result"
    }
   ],
   "source": [
    "DegreeDf.head()\n",
    "InD_F = DegreeDf.groupby('In Degree').count()\n",
    "InD_F = InD_F.drop(['Total Degree','Out Degree'], axis = 1)\n",
    "InD_F.columns = ['Node Count']\n",
    "DegreeDf.shape[0]\n"
   ]
  },
  {
   "cell_type": "code",
   "execution_count": 48,
   "metadata": {},
   "outputs": [
    {
     "data": {
      "text/html": [
       "<div>\n",
       "<style scoped>\n",
       "    .dataframe tbody tr th:only-of-type {\n",
       "        vertical-align: middle;\n",
       "    }\n",
       "\n",
       "    .dataframe tbody tr th {\n",
       "        vertical-align: top;\n",
       "    }\n",
       "\n",
       "    .dataframe thead th {\n",
       "        text-align: right;\n",
       "    }\n",
       "</style>\n",
       "<table border=\"1\" class=\"dataframe\">\n",
       "  <thead>\n",
       "    <tr style=\"text-align: right;\">\n",
       "      <th></th>\n",
       "      <th>Node Count</th>\n",
       "      <th>FreqR</th>\n",
       "    </tr>\n",
       "    <tr>\n",
       "      <th>In Degree</th>\n",
       "      <th></th>\n",
       "      <th></th>\n",
       "    </tr>\n",
       "  </thead>\n",
       "  <tbody>\n",
       "    <tr>\n",
       "      <th>0</th>\n",
       "      <td>1</td>\n",
       "      <td>0.002469</td>\n",
       "    </tr>\n",
       "    <tr>\n",
       "      <th>1</th>\n",
       "      <td>25</td>\n",
       "      <td>0.061728</td>\n",
       "    </tr>\n",
       "    <tr>\n",
       "      <th>2</th>\n",
       "      <td>39</td>\n",
       "      <td>0.096296</td>\n",
       "    </tr>\n",
       "    <tr>\n",
       "      <th>3</th>\n",
       "      <td>31</td>\n",
       "      <td>0.076543</td>\n",
       "    </tr>\n",
       "    <tr>\n",
       "      <th>4</th>\n",
       "      <td>28</td>\n",
       "      <td>0.069136</td>\n",
       "    </tr>\n",
       "  </tbody>\n",
       "</table>\n",
       "</div>"
      ],
      "text/plain": [
       "           Node Count     FreqR\n",
       "In Degree                      \n",
       "0                   1  0.002469\n",
       "1                  25  0.061728\n",
       "2                  39  0.096296\n",
       "3                  31  0.076543\n",
       "4                  28  0.069136"
      ]
     },
     "execution_count": 48,
     "metadata": {},
     "output_type": "execute_result"
    }
   ],
   "source": [
    "DegreeDf.head()\n",
    "InD_F = DegreeDf.groupby('In Degree').count()\n",
    "InD_F = InD_F.drop(['Total Degree','Out Degree'], axis = 1)\n",
    "InD_F.columns = ['Node Count']\n",
    "InD_F['FreqR'] = InD_F['Node Count']/(DegreeDf.shape[0])\n",
    "InD_F.head()"
   ]
  },
  {
   "cell_type": "code",
   "execution_count": 49,
   "metadata": {},
   "outputs": [
    {
     "data": {
      "text/html": [
       "<div>\n",
       "<style scoped>\n",
       "    .dataframe tbody tr th:only-of-type {\n",
       "        vertical-align: middle;\n",
       "    }\n",
       "\n",
       "    .dataframe tbody tr th {\n",
       "        vertical-align: top;\n",
       "    }\n",
       "\n",
       "    .dataframe thead th {\n",
       "        text-align: right;\n",
       "    }\n",
       "</style>\n",
       "<table border=\"1\" class=\"dataframe\">\n",
       "  <thead>\n",
       "    <tr style=\"text-align: right;\">\n",
       "      <th></th>\n",
       "      <th>Node Count</th>\n",
       "      <th>FreqR</th>\n",
       "    </tr>\n",
       "    <tr>\n",
       "      <th>Out Degree</th>\n",
       "      <th></th>\n",
       "      <th></th>\n",
       "    </tr>\n",
       "  </thead>\n",
       "  <tbody>\n",
       "    <tr>\n",
       "      <th>0</th>\n",
       "      <td>3</td>\n",
       "      <td>0.007407</td>\n",
       "    </tr>\n",
       "    <tr>\n",
       "      <th>1</th>\n",
       "      <td>24</td>\n",
       "      <td>0.059259</td>\n",
       "    </tr>\n",
       "    <tr>\n",
       "      <th>2</th>\n",
       "      <td>40</td>\n",
       "      <td>0.098765</td>\n",
       "    </tr>\n",
       "    <tr>\n",
       "      <th>3</th>\n",
       "      <td>40</td>\n",
       "      <td>0.098765</td>\n",
       "    </tr>\n",
       "    <tr>\n",
       "      <th>4</th>\n",
       "      <td>31</td>\n",
       "      <td>0.076543</td>\n",
       "    </tr>\n",
       "  </tbody>\n",
       "</table>\n",
       "</div>"
      ],
      "text/plain": [
       "            Node Count     FreqR\n",
       "Out Degree                      \n",
       "0                    3  0.007407\n",
       "1                   24  0.059259\n",
       "2                   40  0.098765\n",
       "3                   40  0.098765\n",
       "4                   31  0.076543"
      ]
     },
     "execution_count": 49,
     "metadata": {},
     "output_type": "execute_result"
    }
   ],
   "source": [
    "DegreeDf.head()\n",
    "OutD_F = DegreeDf.groupby('Out Degree').count()\n",
    "OutD_F = OutD_F.drop(['Total Degree','In Degree'], axis = 1)\n",
    "OutD_F.columns = ['Node Count']\n",
    "OutD_F['FreqR'] = OutD_F['Node Count']/(DegreeDf.shape[0])\n",
    "OutD_F.head()"
   ]
  },
  {
   "cell_type": "code",
   "execution_count": 50,
   "metadata": {},
   "outputs": [
    {
     "data": {
      "image/png": "[encoded data removed]",
      "text/plain": [
       "<Figure size 1440x432 with 2 Axes>"
      ]
     },
     "metadata": {
      "needs_background": "light"
     },
     "output_type": "display_data"
    }
   ],
   "source": [
    "fig,(ax1,ax2) = plt.subplots(1,2, figsize = (20,6))\n",
    "\n",
    "ax1.plot(InD_F.index,InD_F['FreqR'])\n",
    "ax1.set_xscale('log')\n",
    "ax1.set_yscale('log')\n",
    "\n",
    "ax2.plot(OutD_F.index,OutD_F['FreqR'])\n",
    "ax2.set_xscale('log')\n",
    "ax2.set_yscale('log')"
   ]
  },
  {
   "cell_type": "code",
   "execution_count": 52,
   "metadata": {},
   "outputs": [
    {
     "data": {
      "text/html": [
       "<div>\n",
       "<style scoped>\n",
       "    .dataframe tbody tr th:only-of-type {\n",
       "        vertical-align: middle;\n",
       "    }\n",
       "\n",
       "    .dataframe tbody tr th {\n",
       "        vertical-align: top;\n",
       "    }\n",
       "\n",
       "    .dataframe thead th {\n",
       "        text-align: right;\n",
       "    }\n",
       "</style>\n",
       "<table border=\"1\" class=\"dataframe\">\n",
       "  <thead>\n",
       "    <tr style=\"text-align: right;\">\n",
       "      <th></th>\n",
       "      <th>Node</th>\n",
       "      <th>Total Degree</th>\n",
       "      <th>In Degree</th>\n",
       "      <th>Out Degree</th>\n",
       "      <th>CityCode</th>\n",
       "    </tr>\n",
       "  </thead>\n",
       "  <tbody>\n",
       "    <tr>\n",
       "      <th>0</th>\n",
       "      <td>29</td>\n",
       "      <td>112</td>\n",
       "      <td>63</td>\n",
       "      <td>49</td>\n",
       "      <td>A</td>\n",
       "    </tr>\n",
       "    <tr>\n",
       "      <th>1</th>\n",
       "      <td>78</td>\n",
       "      <td>19</td>\n",
       "      <td>10</td>\n",
       "      <td>9</td>\n",
       "      <td>A</td>\n",
       "    </tr>\n",
       "    <tr>\n",
       "      <th>2</th>\n",
       "      <td>114</td>\n",
       "      <td>321</td>\n",
       "      <td>157</td>\n",
       "      <td>164</td>\n",
       "      <td>A</td>\n",
       "    </tr>\n",
       "    <tr>\n",
       "      <th>3</th>\n",
       "      <td>117</td>\n",
       "      <td>96</td>\n",
       "      <td>53</td>\n",
       "      <td>43</td>\n",
       "      <td>A</td>\n",
       "    </tr>\n",
       "    <tr>\n",
       "      <th>4</th>\n",
       "      <td>134</td>\n",
       "      <td>64</td>\n",
       "      <td>36</td>\n",
       "      <td>28</td>\n",
       "      <td>A</td>\n",
       "    </tr>\n",
       "  </tbody>\n",
       "</table>\n",
       "</div>"
      ],
      "text/plain": [
       "   Node  Total Degree  In Degree  Out Degree CityCode\n",
       "0    29           112         63          49        A\n",
       "1    78            19         10           9        A\n",
       "2   114           321        157         164        A\n",
       "3   117            96         53          43        A\n",
       "4   134            64         36          28        A"
      ]
     },
     "execution_count": 52,
     "metadata": {},
     "output_type": "execute_result"
    }
   ],
   "source": [
    "DegreeDf['CityCode'] = 'A'\n",
    "DegreeDf.head()"
   ]
  },
  {
   "cell_type": "code",
   "execution_count": 53,
   "metadata": {},
   "outputs": [
    {
     "name": "stderr",
     "output_type": "stream",
     "text": [
      "/var/folders/bm/228g2b_56hv6s8zrqyp2p6gc0000gn/T/ipykernel_9701/1983489990.py:7: SettingWithCopyWarning: \n",
      "A value is trying to be set on a copy of a slice from a DataFrame\n",
      "\n",
      "See the caveats in the documentation: https://pandas.pydata.org/pandas-docs/stable/user_guide/indexing.html#returning-a-view-versus-a-copy\n",
      "  DegreeDf['CityCode'][l] = Airport_Loc['code'][k]\n"
     ]
    }
   ],
   "source": [
    "\n",
    "for l in range(0,DegreeDf.shape[0],1):\n",
    "    \n",
    "    node = DegreeDf['Node'][l]\n",
    "\n",
    "    for k in range(0, Airport_Loc.shape[0],1):\n",
    "        if(Airport_Loc['id'][k] == node):\n",
    "            DegreeDf['CityCode'][l] = Airport_Loc['code'][k]"
   ]
  },
  {
   "cell_type": "code",
   "execution_count": 54,
   "metadata": {},
   "outputs": [
    {
     "data": {
      "text/html": [
       "<div>\n",
       "<style scoped>\n",
       "    .dataframe tbody tr th:only-of-type {\n",
       "        vertical-align: middle;\n",
       "    }\n",
       "\n",
       "    .dataframe tbody tr th {\n",
       "        vertical-align: top;\n",
       "    }\n",
       "\n",
       "    .dataframe thead th {\n",
       "        text-align: right;\n",
       "    }\n",
       "</style>\n",
       "<table border=\"1\" class=\"dataframe\">\n",
       "  <thead>\n",
       "    <tr style=\"text-align: right;\">\n",
       "      <th></th>\n",
       "      <th>Node</th>\n",
       "      <th>Total Degree</th>\n",
       "      <th>In Degree</th>\n",
       "      <th>Out Degree</th>\n",
       "      <th>CityCode</th>\n",
       "    </tr>\n",
       "  </thead>\n",
       "  <tbody>\n",
       "    <tr>\n",
       "      <th>75</th>\n",
       "      <td>389</td>\n",
       "      <td>360</td>\n",
       "      <td>172</td>\n",
       "      <td>188</td>\n",
       "      <td>DEN</td>\n",
       "    </tr>\n",
       "    <tr>\n",
       "      <th>98</th>\n",
       "      <td>1068</td>\n",
       "      <td>332</td>\n",
       "      <td>161</td>\n",
       "      <td>171</td>\n",
       "      <td>MSP</td>\n",
       "    </tr>\n",
       "    <tr>\n",
       "      <th>38</th>\n",
       "      <td>1200</td>\n",
       "      <td>321</td>\n",
       "      <td>156</td>\n",
       "      <td>165</td>\n",
       "      <td>ORD</td>\n",
       "    </tr>\n",
       "    <tr>\n",
       "      <th>12</th>\n",
       "      <td>391</td>\n",
       "      <td>321</td>\n",
       "      <td>155</td>\n",
       "      <td>166</td>\n",
       "      <td>DFW</td>\n",
       "    </tr>\n",
       "    <tr>\n",
       "      <th>2</th>\n",
       "      <td>114</td>\n",
       "      <td>321</td>\n",
       "      <td>157</td>\n",
       "      <td>164</td>\n",
       "      <td>ATL</td>\n",
       "    </tr>\n",
       "  </tbody>\n",
       "</table>\n",
       "</div>"
      ],
      "text/plain": [
       "    Node  Total Degree  In Degree  Out Degree CityCode\n",
       "75   389           360        172         188      DEN\n",
       "98  1068           332        161         171      MSP\n",
       "38  1200           321        156         165      ORD\n",
       "12   391           321        155         166      DFW\n",
       "2    114           321        157         164      ATL"
      ]
     },
     "execution_count": 54,
     "metadata": {},
     "output_type": "execute_result"
    }
   ],
   "source": [
    "# Lets find the top 10 most connected nodes and there degrees\n",
    "DegreeDf.head()\n",
    "DegreeDf = DegreeDf.sort_values(by= ['Total Degree'], ascending = False)\n",
    "DegreeDf.head()"
   ]
  },
  {
   "cell_type": "code",
   "execution_count": 55,
   "metadata": {},
   "outputs": [
    {
     "data": {
      "image/png": "[encoded data removed]",
      "text/plain": [
       "<Figure size 1440x288 with 1 Axes>"
      ]
     },
     "metadata": {
      "needs_background": "light"
     },
     "output_type": "display_data"
    }
   ],
   "source": [
    "fig = plt.figure(figsize = (20,4))\n",
    "plt.plot(DegreeDf['CityCode'][0:10],DegreeDf['Total Degree'][0:10])\n",
    "plt.show()"
   ]
  },
  {
   "cell_type": "code",
   "execution_count": 56,
   "metadata": {},
   "outputs": [
    {
     "data": {
      "text/plain": [
       "5"
      ]
     },
     "execution_count": 56,
     "metadata": {},
     "output_type": "execute_result"
    }
   ],
   "source": [
    "#Lets see if there are any sub graphs\n",
    "nx.number_strongly_connected_components(A)"
   ]
  },
  {
   "cell_type": "code",
   "execution_count": 57,
   "metadata": {},
   "outputs": [
    {
     "name": "stdout",
     "output_type": "stream",
     "text": [
      "(314, 0) 0 0\n",
      "(1210, 0) 0 0\n",
      "13558\n",
      "(1347, 0) 0 0\n",
      "(1182, 0) 0 0\n",
      "Total edges:  13562\n"
     ]
    }
   ],
   "source": [
    "# There are 5 sub-graphs, lets see the size of these networks\n",
    "Components = nx.strongly_connected_components(A)\n",
    "\n",
    "for i in Components:\n",
    "    G = A.subgraph(i)\n",
    "    \n",
    "    if(len(G.nodes) == 1):\n",
    "        print(list(G.out_degree())[0], list(G.out_degree())[0][1], list(G.in_degree())[0][1])\n",
    "\n",
    "    else:\n",
    "        #deg = dict(nx.degree(G))\n",
    "        print(len(G.edges))\n",
    "            \n",
    "print('Total edges: ', len(A.edges))\n",
    "\n",
    "#The edge calculation is not right, this is a directed graph. How can this be understood. \n",
    "#>> These are edge points with either only indegree or out degree, not connected."
   ]
  },
  {
   "cell_type": "code",
   "execution_count": 63,
   "metadata": {},
   "outputs": [
    {
     "data": {
      "text/html": [
       "<div>\n",
       "<style scoped>\n",
       "    .dataframe tbody tr th:only-of-type {\n",
       "        vertical-align: middle;\n",
       "    }\n",
       "\n",
       "    .dataframe tbody tr th {\n",
       "        vertical-align: top;\n",
       "    }\n",
       "\n",
       "    .dataframe thead th {\n",
       "        text-align: right;\n",
       "    }\n",
       "</style>\n",
       "<table border=\"1\" class=\"dataframe\">\n",
       "  <thead>\n",
       "    <tr style=\"text-align: right;\">\n",
       "      <th></th>\n",
       "      <th>Node</th>\n",
       "      <th>Total Degree</th>\n",
       "      <th>In Degree</th>\n",
       "      <th>Out Degree</th>\n",
       "      <th>CityCode</th>\n",
       "    </tr>\n",
       "  </thead>\n",
       "  <tbody>\n",
       "    <tr>\n",
       "      <th>369</th>\n",
       "      <td>314</td>\n",
       "      <td>2</td>\n",
       "      <td>2</td>\n",
       "      <td>0</td>\n",
       "      <td>CLM</td>\n",
       "    </tr>\n",
       "    <tr>\n",
       "      <th>395</th>\n",
       "      <td>1210</td>\n",
       "      <td>1</td>\n",
       "      <td>1</td>\n",
       "      <td>0</td>\n",
       "      <td>OSH</td>\n",
       "    </tr>\n",
       "    <tr>\n",
       "      <th>401</th>\n",
       "      <td>1347</td>\n",
       "      <td>1</td>\n",
       "      <td>1</td>\n",
       "      <td>0</td>\n",
       "      <td>RCE</td>\n",
       "    </tr>\n",
       "  </tbody>\n",
       "</table>\n",
       "</div>"
      ],
      "text/plain": [
       "     Node  Total Degree  In Degree  Out Degree CityCode\n",
       "369   314             2          2           0      CLM\n",
       "395  1210             1          1           0      OSH\n",
       "401  1347             1          1           0      RCE"
      ]
     },
     "execution_count": 63,
     "metadata": {},
     "output_type": "execute_result"
    }
   ],
   "source": [
    "DegreeDf[DegreeDf['In Degree'] == 0]\n",
    "DegreeDf[DegreeDf['Out Degree'] == 0]"
   ]
  },
  {
   "cell_type": "code",
   "execution_count": 64,
   "metadata": {},
   "outputs": [
    {
     "data": {
      "text/plain": [
       "0.6097876398260947"
      ]
     },
     "execution_count": 64,
     "metadata": {},
     "output_type": "execute_result"
    }
   ],
   "source": [
    "#Just considering connections and not the number of passengers (Weight)\n",
    "nx.average_clustering(A)"
   ]
  },
  {
   "cell_type": "code",
   "execution_count": 68,
   "metadata": {},
   "outputs": [],
   "source": [
    "#Lets calculate centrality measurese, this is a directed graph\n",
    "Components_airports = list(nx.strongly_connected_components(A))"
   ]
  },
  {
   "cell_type": "markdown",
   "metadata": {},
   "source": [
    "### Paths"
   ]
  },
  {
   "cell_type": "code",
   "execution_count": 69,
   "metadata": {},
   "outputs": [],
   "source": [
    "Source = 1437 #San Fransisco\n",
    "Target = 500  #New York"
   ]
  },
  {
   "cell_type": "code",
   "execution_count": 27,
   "metadata": {},
   "outputs": [],
   "source": [
    "# Possible paths\n",
    "#Path_List = nx.all_simple_paths(A,29,30)\n",
    "#Path_List_R = nx.all_simple_paths(A,1437,500) #As this is directed graph"
   ]
  },
  {
   "cell_type": "code",
   "execution_count": 70,
   "metadata": {},
   "outputs": [],
   "source": [
    "Path_Graph = nx.DiGraph()\n",
    "Path_Graph_R = nx.DiGraph()\n",
    "Path_Graph_Shortest = nx.DiGraph()"
   ]
  },
  {
   "cell_type": "code",
   "execution_count": 73,
   "metadata": {},
   "outputs": [],
   "source": [
    "def k_shortest_paths(G, source, target,k):\n",
    "    return list(islice(nx.shortest_simple_paths(G, source, target), k))\n",
    "\n",
    "#If calculating all the paths, then it would take a very long time to compute"
   ]
  },
  {
   "cell_type": "code",
   "execution_count": 72,
   "metadata": {},
   "outputs": [],
   "source": [
    "#Calculating all the paths is intense, mainly due to connectedness\n",
    "Paths = k_shortest_paths(A,Source,Target,20)\n",
    "Paths_R = k_shortest_paths(A,Target,Source,20)\n",
    "Shortest_Path = nx.shortest_path(A, Source, Target)"
   ]
  },
  {
   "cell_type": "code",
   "execution_count": 74,
   "metadata": {},
   "outputs": [],
   "source": [
    "Path_Graph = pgc.CreateGraph(Paths, Airport_Loc)\n",
    "Path_Graph_R = pgc.CreateGraph(Paths_R, Airport_Loc)\n",
    "Path_Graph_Shortest = pgc.CreateGraph(Shortest_Path, Airport_Loc)"
   ]
  },
  {
   "cell_type": "code",
   "execution_count": null,
   "metadata": {},
   "outputs": [],
   "source": [
    "Path_Graph_Shortest.label = "
   ]
  },
  {
   "cell_type": "code",
   "execution_count": 77,
   "metadata": {},
   "outputs": [
    {
     "data": {
      "image/png": "[encoded data removed]",
      "text/plain": [
       "<Figure size 1080x576 with 1 Axes>"
      ]
     },
     "metadata": {},
     "output_type": "display_data"
    }
   ],
   "source": [
    "fig = plt.figure(figsize=(15,8))\n",
    "\n",
    "nx.draw_networkx_nodes(A, pos = A.pos, node_size=20, node_color='#000000', alpha=0.4)\n",
    "#nx.draw_networkx_labels(A,pos=A.pos,labels=A.code)\n",
    "\n",
    "nx.draw_networkx_nodes(Path_Graph, pos = Path_Graph.pos, node_size=70, node_color='Orange')\n",
    "nx.draw_networkx_edges(Path_Graph,pos = Path_Graph.pos, edge_color='Orange', alpha= 0.7)\n",
    "\n",
    "nx.draw_networkx_nodes(Path_Graph_R, pos = Path_Graph_R.pos, node_size=70, node_color='Green')\n",
    "nx.draw_networkx_edges(Path_Graph_R,pos = Path_Graph_R.pos, edge_color='Green', alpha= 0.7)\n",
    "\n",
    "nx.draw_networkx_nodes(Path_Graph_Shortest, pos = Path_Graph_Shortest.pos, node_size=170, node_color='Red')\n",
    "nx.draw_networkx_edges(Path_Graph_Shortest,pos = Path_Graph_Shortest.pos, edge_color='Blue', width=3.5)\n",
    "nx.draw_networkx_labels(Path_Graph_Shortest,pos = Path_Graph_Shortest.pos, labels= Path_Graph_Shortest.code, font_color='Black', font_weight='bold', font_size = 18)\n",
    "\n",
    "plt.axis('off')\n",
    "plt.show()"
   ]
  },
  {
   "cell_type": "code",
   "execution_count": null,
   "metadata": {},
   "outputs": [],
   "source": []
  }
 ],
 "metadata": {
  "kernelspec": {
   "display_name": "NetworkAnalysis",
   "language": "python",
   "name": "python3"
  },
  "language_info": {
   "codemirror_mode": {
    "name": "ipython",
    "version": 3
   },
   "file_extension": ".py",
   "mimetype": "text/x-python",
   "name": "python",
   "nbconvert_exporter": "python",
   "pygments_lexer": "ipython3",
   "version": "3.10.9"
  },
  "orig_nbformat": 4,
  "vscode": {
   "interpreter": {
    "hash": "5aaaf988310259ef3f35604fa24ef43abcfe7921b40338c44f4c2b1877d3f647"
   }
  }
 },
 "nbformat": 4,
 "nbformat_minor": 2
}
