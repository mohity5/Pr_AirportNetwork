{
 "cells": [
  {
   "cell_type": "markdown",
   "metadata": {},
   "source": [
    "# Basics of network analysis"
   ]
  },
  {
   "cell_type": "markdown",
   "metadata": {},
   "source": [
    "https://github.com/socialcomquant/summer-school-2022/blob/main/Day2_Tizzoni_Network_Analysis/2_network_analysis.ipynb\n",
    "\n",
    "DataSet : https://snap.stanford.edu/data/ca-AstroPh.html\n",
    "\n",
    "This is data of undirected graphs with the links representing co-authorship\n",
    "\n",
    "\n",
    "Topics covered:\n",
    "- Clustering Coefficient\n",
    "- [ToDo] Shortest Paths and visualisations\n",
    "- [ToDo] Centrality Measure\n",
    "\n",
    "\n",
    "To Do: \n",
    "- Directed and unDirected difference in coeff\n",
    "- Graph weights\n",
    "- Difference between transitivity and clustering in terms of interpretation.\n",
    "- Log-log plot"
   ]
  },
  {
   "cell_type": "code",
   "execution_count": 1,
   "metadata": {},
   "outputs": [],
   "source": [
    "import networkx as nx"
   ]
  },
  {
   "cell_type": "code",
   "execution_count": 2,
   "metadata": {},
   "outputs": [],
   "source": [
    "import pandas as pd\n",
    "import numpy as np\n",
    "import math\n",
    "import matplotlib.pyplot as plt"
   ]
  },
  {
   "cell_type": "code",
   "execution_count": 3,
   "metadata": {},
   "outputs": [],
   "source": [
    "from itertools import islice\n",
    "#This for slice the number of iterations in the loop"
   ]
  },
  {
   "cell_type": "code",
   "execution_count": 4,
   "metadata": {},
   "outputs": [],
   "source": [
    "%matplotlib inline"
   ]
  },
  {
   "cell_type": "code",
   "execution_count": 5,
   "metadata": {},
   "outputs": [],
   "source": [
    "path = './Data/ca-AstroPh.txt'"
   ]
  },
  {
   "cell_type": "code",
   "execution_count": 6,
   "metadata": {},
   "outputs": [
    {
     "data": {
      "text/html": [
       "<div>\n",
       "<style scoped>\n",
       "    .dataframe tbody tr th:only-of-type {\n",
       "        vertical-align: middle;\n",
       "    }\n",
       "\n",
       "    .dataframe tbody tr th {\n",
       "        vertical-align: top;\n",
       "    }\n",
       "\n",
       "    .dataframe thead th {\n",
       "        text-align: right;\n",
       "    }\n",
       "</style>\n",
       "<table border=\"1\" class=\"dataframe\">\n",
       "  <thead>\n",
       "    <tr style=\"text-align: right;\">\n",
       "      <th></th>\n",
       "      <th># FromNodeId</th>\n",
       "      <th>ToNodeId</th>\n",
       "    </tr>\n",
       "  </thead>\n",
       "  <tbody>\n",
       "    <tr>\n",
       "      <th>0</th>\n",
       "      <td>84424</td>\n",
       "      <td>276</td>\n",
       "    </tr>\n",
       "    <tr>\n",
       "      <th>1</th>\n",
       "      <td>84424</td>\n",
       "      <td>1662</td>\n",
       "    </tr>\n",
       "    <tr>\n",
       "      <th>2</th>\n",
       "      <td>84424</td>\n",
       "      <td>5089</td>\n",
       "    </tr>\n",
       "    <tr>\n",
       "      <th>3</th>\n",
       "      <td>84424</td>\n",
       "      <td>6058</td>\n",
       "    </tr>\n",
       "    <tr>\n",
       "      <th>4</th>\n",
       "      <td>84424</td>\n",
       "      <td>6229</td>\n",
       "    </tr>\n",
       "  </tbody>\n",
       "</table>\n",
       "</div>"
      ],
      "text/plain": [
       "   # FromNodeId  ToNodeId\n",
       "0         84424       276\n",
       "1         84424      1662\n",
       "2         84424      5089\n",
       "3         84424      6058\n",
       "4         84424      6229"
      ]
     },
     "execution_count": 6,
     "metadata": {},
     "output_type": "execute_result"
    }
   ],
   "source": [
    "df = pd.read_csv(path, sep = '\\t')\n",
    "df.head()"
   ]
  },
  {
   "cell_type": "code",
   "execution_count": 7,
   "metadata": {},
   "outputs": [],
   "source": [
    "G = nx.Graph()"
   ]
  },
  {
   "cell_type": "code",
   "execution_count": 8,
   "metadata": {},
   "outputs": [],
   "source": [
    "for i in list(range(0, len(df),1)):\n",
    "    G.add_edge(df['# FromNodeId'][i],df['ToNodeId'][i])"
   ]
  },
  {
   "cell_type": "code",
   "execution_count": 9,
   "metadata": {},
   "outputs": [
    {
     "data": {
      "text/plain": [
       "18772"
      ]
     },
     "execution_count": 9,
     "metadata": {},
     "output_type": "execute_result"
    }
   ],
   "source": [
    "len(G.nodes())"
   ]
  },
  {
   "cell_type": "code",
   "execution_count": 10,
   "metadata": {},
   "outputs": [
    {
     "data": {
      "text/plain": [
       "198110"
      ]
     },
     "execution_count": 10,
     "metadata": {},
     "output_type": "execute_result"
    }
   ],
   "source": [
    "len(G.edges())"
   ]
  },
  {
   "cell_type": "markdown",
   "metadata": {},
   "source": [
    "## Components in connected graphs"
   ]
  },
  {
   "cell_type": "code",
   "execution_count": 11,
   "metadata": {},
   "outputs": [
    {
     "data": {
      "text/plain": [
       "False"
      ]
     },
     "execution_count": 11,
     "metadata": {},
     "output_type": "execute_result"
    }
   ],
   "source": [
    "nx.is_connected(G)\n",
    "#This should be false if there are components"
   ]
  },
  {
   "cell_type": "code",
   "execution_count": 12,
   "metadata": {},
   "outputs": [
    {
     "data": {
      "text/plain": [
       "290"
      ]
     },
     "execution_count": 12,
     "metadata": {},
     "output_type": "execute_result"
    }
   ],
   "source": [
    "nx.number_connected_components(G)"
   ]
  },
  {
   "cell_type": "code",
   "execution_count": 13,
   "metadata": {},
   "outputs": [],
   "source": [
    "Node_Len = []\n",
    "for k in nx.connected_components(G):\n",
    "    Node_Len = np.append(Node_Len, len(k))\n",
    "#This would give length of subgraph, which would essentially be the number of nodes."
   ]
  },
  {
   "cell_type": "code",
   "execution_count": 14,
   "metadata": {},
   "outputs": [
    {
     "data": {
      "text/plain": [
       "290"
      ]
     },
     "execution_count": 14,
     "metadata": {},
     "output_type": "execute_result"
    }
   ],
   "source": [
    "len(Node_Len)"
   ]
  },
  {
   "cell_type": "code",
   "execution_count": 15,
   "metadata": {},
   "outputs": [
    {
     "data": {
      "text/plain": [
       "17903.0"
      ]
     },
     "execution_count": 15,
     "metadata": {},
     "output_type": "execute_result"
    }
   ],
   "source": [
    "max(Node_Len)"
   ]
  },
  {
   "cell_type": "code",
   "execution_count": 16,
   "metadata": {},
   "outputs": [],
   "source": [
    "Components = list(nx.connected_components(G))"
   ]
  },
  {
   "cell_type": "code",
   "execution_count": 17,
   "metadata": {},
   "outputs": [],
   "source": [
    "pos = 0\n",
    "for j in range(1,len(Components),1):\n",
    "    \n",
    "    if(len(Components[j]) == max(Node_Len)):\n",
    "        pos = j\n",
    "\n",
    "#There would be a better sorting algo"
   ]
  },
  {
   "cell_type": "code",
   "execution_count": 18,
   "metadata": {},
   "outputs": [
    {
     "data": {
      "text/plain": [
       "17903"
      ]
     },
     "execution_count": 18,
     "metadata": {},
     "output_type": "execute_result"
    }
   ],
   "source": [
    "len(Components[pos])"
   ]
  },
  {
   "cell_type": "code",
   "execution_count": 19,
   "metadata": {},
   "outputs": [],
   "source": [
    "G_C_Max = G.subgraph(Components[pos])"
   ]
  },
  {
   "cell_type": "code",
   "execution_count": 20,
   "metadata": {},
   "outputs": [
    {
     "data": {
      "text/plain": [
       "869"
      ]
     },
     "execution_count": 20,
     "metadata": {},
     "output_type": "execute_result"
    }
   ],
   "source": [
    "len(G_C_Max.nodes())\n",
    "nx.is_connected(G_C_Max)\n",
    "#This subgraphs is connected. #Could also be the largest co-author community.\n",
    "len(G) - len(G_C_Max)\n",
    "\n",
    "# Most of the authors are in the above sub group"
   ]
  },
  {
   "cell_type": "markdown",
   "metadata": {},
   "source": [
    "## Clustering coefficients\n",
    "\n",
    "Local and global clustering coefficients. "
   ]
  },
  {
   "cell_type": "code",
   "execution_count": 21,
   "metadata": {},
   "outputs": [],
   "source": [
    "#Number of triangles in the graph\n",
    "tt = sum(list(nx.triangles(G_C_Max).values()))/3"
   ]
  },
  {
   "cell_type": "code",
   "execution_count": 22,
   "metadata": {},
   "outputs": [],
   "source": [
    "#Total number of possible triangles, Here the triplets could also be open and hence not needed to be all 3\n",
    "tpt = math.factorial(len(G_C_Max.nodes()))/(math.factorial(3) * math.factorial(len(G_C_Max.nodes()) - 3))"
   ]
  },
  {
   "cell_type": "code",
   "execution_count": 23,
   "metadata": {},
   "outputs": [
    {
     "data": {
      "text/plain": [
       "0.31777791273391154"
      ]
     },
     "execution_count": 23,
     "metadata": {},
     "output_type": "execute_result"
    }
   ],
   "source": [
    "#Transitivity\n",
    "4050042/956210276151.0\n",
    "\n",
    "nx.transitivity(G_C_Max)"
   ]
  },
  {
   "cell_type": "code",
   "execution_count": 24,
   "metadata": {},
   "outputs": [],
   "source": [
    "#Would like to print the distribution of the local clustering coefficients. This would give the centralised?\n",
    "ClusteringCoefL = nx.clustering(G_C_Max)"
   ]
  },
  {
   "cell_type": "code",
   "execution_count": 25,
   "metadata": {},
   "outputs": [
    {
     "data": {
      "image/png": "[encoded data removed]",
      "text/plain": [
       "<Figure size 432x288 with 1 Axes>"
      ]
     },
     "metadata": {
      "needs_background": "light"
     },
     "output_type": "display_data"
    }
   ],
   "source": [
    "#The key would be the node id\n",
    "plt.hist(ClusteringCoefL.values())\n",
    "plt.show()\n",
    "#This would mean, it is quiete a connected graphs, a majority of neighbours are connected with the neighbours."
   ]
  },
  {
   "cell_type": "code",
   "execution_count": 26,
   "metadata": {},
   "outputs": [
    {
     "data": {
      "text/plain": [
       "0.6328232091518589"
      ]
     },
     "execution_count": 26,
     "metadata": {},
     "output_type": "execute_result"
    }
   ],
   "source": [
    "nx.average_clustering(G_C_Max)"
   ]
  },
  {
   "cell_type": "markdown",
   "metadata": {},
   "source": [
    "## [Practicing] Airport dataset"
   ]
  },
  {
   "cell_type": "markdown",
   "metadata": {},
   "source": [
    "In this lets explore the visualisation and also the shortest distance, using the airport data set."
   ]
  },
  {
   "cell_type": "code",
   "execution_count": 27,
   "metadata": {},
   "outputs": [],
   "source": [
    "Airport_Codes = pd.read_csv('./Data/US_Airport_Code.txt', header=None, sep=' ')"
   ]
  },
  {
   "cell_type": "code",
   "execution_count": 28,
   "metadata": {},
   "outputs": [
    {
     "data": {
      "text/html": [
       "<div>\n",
       "<style scoped>\n",
       "    .dataframe tbody tr th:only-of-type {\n",
       "        vertical-align: middle;\n",
       "    }\n",
       "\n",
       "    .dataframe tbody tr th {\n",
       "        vertical-align: top;\n",
       "    }\n",
       "\n",
       "    .dataframe thead th {\n",
       "        text-align: right;\n",
       "    }\n",
       "</style>\n",
       "<table border=\"1\" class=\"dataframe\">\n",
       "  <thead>\n",
       "    <tr style=\"text-align: right;\">\n",
       "      <th></th>\n",
       "      <th>0</th>\n",
       "      <th>1</th>\n",
       "      <th>2</th>\n",
       "    </tr>\n",
       "  </thead>\n",
       "  <tbody>\n",
       "    <tr>\n",
       "      <th>0</th>\n",
       "      <td>29</td>\n",
       "      <td>78</td>\n",
       "      <td>95</td>\n",
       "    </tr>\n",
       "    <tr>\n",
       "      <th>1</th>\n",
       "      <td>29</td>\n",
       "      <td>114</td>\n",
       "      <td>37483</td>\n",
       "    </tr>\n",
       "    <tr>\n",
       "      <th>2</th>\n",
       "      <td>29</td>\n",
       "      <td>117</td>\n",
       "      <td>47</td>\n",
       "    </tr>\n",
       "    <tr>\n",
       "      <th>3</th>\n",
       "      <td>29</td>\n",
       "      <td>134</td>\n",
       "      <td>16</td>\n",
       "    </tr>\n",
       "    <tr>\n",
       "      <th>4</th>\n",
       "      <td>29</td>\n",
       "      <td>169</td>\n",
       "      <td>40</td>\n",
       "    </tr>\n",
       "  </tbody>\n",
       "</table>\n",
       "</div>"
      ],
      "text/plain": [
       "    0    1      2\n",
       "0  29   78     95\n",
       "1  29  114  37483\n",
       "2  29  117     47\n",
       "3  29  134     16\n",
       "4  29  169     40"
      ]
     },
     "execution_count": 28,
     "metadata": {},
     "output_type": "execute_result"
    }
   ],
   "source": [
    "Airport_Codes.head()"
   ]
  },
  {
   "cell_type": "code",
   "execution_count": 29,
   "metadata": {},
   "outputs": [],
   "source": [
    "Airport_Codes.columns = ['From', 'To', 'Passenger_Count']"
   ]
  },
  {
   "cell_type": "code",
   "execution_count": 30,
   "metadata": {},
   "outputs": [
    {
     "data": {
      "text/html": [
       "<div>\n",
       "<style scoped>\n",
       "    .dataframe tbody tr th:only-of-type {\n",
       "        vertical-align: middle;\n",
       "    }\n",
       "\n",
       "    .dataframe tbody tr th {\n",
       "        vertical-align: top;\n",
       "    }\n",
       "\n",
       "    .dataframe thead th {\n",
       "        text-align: right;\n",
       "    }\n",
       "</style>\n",
       "<table border=\"1\" class=\"dataframe\">\n",
       "  <thead>\n",
       "    <tr style=\"text-align: right;\">\n",
       "      <th></th>\n",
       "      <th>From</th>\n",
       "      <th>To</th>\n",
       "      <th>Passenger_Count</th>\n",
       "    </tr>\n",
       "  </thead>\n",
       "  <tbody>\n",
       "    <tr>\n",
       "      <th>0</th>\n",
       "      <td>29</td>\n",
       "      <td>78</td>\n",
       "      <td>95</td>\n",
       "    </tr>\n",
       "    <tr>\n",
       "      <th>1</th>\n",
       "      <td>29</td>\n",
       "      <td>114</td>\n",
       "      <td>37483</td>\n",
       "    </tr>\n",
       "    <tr>\n",
       "      <th>2</th>\n",
       "      <td>29</td>\n",
       "      <td>117</td>\n",
       "      <td>47</td>\n",
       "    </tr>\n",
       "    <tr>\n",
       "      <th>3</th>\n",
       "      <td>29</td>\n",
       "      <td>134</td>\n",
       "      <td>16</td>\n",
       "    </tr>\n",
       "    <tr>\n",
       "      <th>4</th>\n",
       "      <td>29</td>\n",
       "      <td>169</td>\n",
       "      <td>40</td>\n",
       "    </tr>\n",
       "  </tbody>\n",
       "</table>\n",
       "</div>"
      ],
      "text/plain": [
       "   From   To  Passenger_Count\n",
       "0    29   78               95\n",
       "1    29  114            37483\n",
       "2    29  117               47\n",
       "3    29  134               16\n",
       "4    29  169               40"
      ]
     },
     "execution_count": 30,
     "metadata": {},
     "output_type": "execute_result"
    }
   ],
   "source": [
    "Airport_Codes.head()"
   ]
  },
  {
   "cell_type": "code",
   "execution_count": 31,
   "metadata": {},
   "outputs": [],
   "source": [
    "#Here the graph is undirected (this according to the documentation) is mainly due to equal weighting for to and fro passengers (symmetric)// This seems directed\n",
    "\n",
    "A = nx.DiGraph()\n",
    "\n",
    "for k in range(0,Airport_Codes.shape[0],1):\n",
    "    A.add_edge(int(Airport_Codes['From'][k]),int(Airport_Codes['To'][k]))"
   ]
  },
  {
   "cell_type": "code",
   "execution_count": 32,
   "metadata": {},
   "outputs": [
    {
     "data": {
      "text/plain": [
       "405"
      ]
     },
     "execution_count": 32,
     "metadata": {},
     "output_type": "execute_result"
    }
   ],
   "source": [
    "len(A)"
   ]
  },
  {
   "cell_type": "code",
   "execution_count": 33,
   "metadata": {},
   "outputs": [],
   "source": [
    "Airport_Loc = pd.read_csv('./Data/US_Airport_Loc.txt', sep = ' ')"
   ]
  },
  {
   "cell_type": "code",
   "execution_count": 34,
   "metadata": {},
   "outputs": [
    {
     "data": {
      "text/html": [
       "<div>\n",
       "<style scoped>\n",
       "    .dataframe tbody tr th:only-of-type {\n",
       "        vertical-align: middle;\n",
       "    }\n",
       "\n",
       "    .dataframe tbody tr th {\n",
       "        vertical-align: top;\n",
       "    }\n",
       "\n",
       "    .dataframe thead th {\n",
       "        text-align: right;\n",
       "    }\n",
       "</style>\n",
       "<table border=\"1\" class=\"dataframe\">\n",
       "  <thead>\n",
       "    <tr style=\"text-align: right;\">\n",
       "      <th></th>\n",
       "      <th>id</th>\n",
       "      <th>code</th>\n",
       "      <th>city</th>\n",
       "      <th>lat</th>\n",
       "      <th>lon</th>\n",
       "    </tr>\n",
       "  </thead>\n",
       "  <tbody>\n",
       "    <tr>\n",
       "      <th>0</th>\n",
       "      <td>29</td>\n",
       "      <td>ABE</td>\n",
       "      <td>Allentown</td>\n",
       "      <td>40.654722</td>\n",
       "      <td>-75.438333</td>\n",
       "    </tr>\n",
       "    <tr>\n",
       "      <th>1</th>\n",
       "      <td>30</td>\n",
       "      <td>ABI</td>\n",
       "      <td>Abilene</td>\n",
       "      <td>32.409444</td>\n",
       "      <td>-99.679722</td>\n",
       "    </tr>\n",
       "    <tr>\n",
       "      <th>2</th>\n",
       "      <td>32</td>\n",
       "      <td>ABQ</td>\n",
       "      <td>Albuquerque</td>\n",
       "      <td>35.041667</td>\n",
       "      <td>-106.606389</td>\n",
       "    </tr>\n",
       "    <tr>\n",
       "      <th>3</th>\n",
       "      <td>33</td>\n",
       "      <td>ABR</td>\n",
       "      <td>Aberdeen</td>\n",
       "      <td>45.449722</td>\n",
       "      <td>-98.421667</td>\n",
       "    </tr>\n",
       "    <tr>\n",
       "      <th>4</th>\n",
       "      <td>35</td>\n",
       "      <td>ABY</td>\n",
       "      <td>Albany</td>\n",
       "      <td>31.532222</td>\n",
       "      <td>-84.196111</td>\n",
       "    </tr>\n",
       "  </tbody>\n",
       "</table>\n",
       "</div>"
      ],
      "text/plain": [
       "   id code         city        lat         lon\n",
       "0  29  ABE    Allentown  40.654722  -75.438333\n",
       "1  30  ABI      Abilene  32.409444  -99.679722\n",
       "2  32  ABQ  Albuquerque  35.041667 -106.606389\n",
       "3  33  ABR     Aberdeen  45.449722  -98.421667\n",
       "4  35  ABY       Albany  31.532222  -84.196111"
      ]
     },
     "execution_count": 34,
     "metadata": {},
     "output_type": "execute_result"
    }
   ],
   "source": [
    "Airport_Loc.head()"
   ]
  },
  {
   "cell_type": "code",
   "execution_count": 35,
   "metadata": {},
   "outputs": [],
   "source": [
    "# This is for defining the dictionary for additional attributes to the graph\n",
    "A.code = {}\n",
    "A.pos = {}"
   ]
  },
  {
   "cell_type": "code",
   "execution_count": 36,
   "metadata": {},
   "outputs": [],
   "source": [
    "for j in range(0,Airport_Loc.shape[0],1):\n",
    "    node = Airport_Loc['id'][j]\n",
    "    A.code[node] = Airport_Loc['code'][j]\n",
    "    A.pos[node] = (float(Airport_Loc['lon'][j]), float(Airport_Loc['lat'][j]))"
   ]
  },
  {
   "cell_type": "code",
   "execution_count": 37,
   "metadata": {},
   "outputs": [
    {
     "data": {
      "text/plain": [
       "(-127.04962499999999, -65.237875, 23.3436116, 50.0063884)"
      ]
     },
     "execution_count": 37,
     "metadata": {},
     "output_type": "execute_result"
    },
    {
     "data": {
      "image/png": "[encoded data removed]",
      "text/plain": [
       "<Figure size 1080x576 with 1 Axes>"
      ]
     },
     "metadata": {},
     "output_type": "display_data"
    }
   ],
   "source": [
    "fig = plt.figure(figsize=(15,8))\n",
    "\n",
    "nx.draw_networkx_nodes(A, pos = A.pos, node_size=20)\n",
    "nx.draw_networkx_labels(A,pos=A.pos,labels=A.code)\n",
    "\n",
    "plt.axis('off')"
   ]
  },
  {
   "cell_type": "code",
   "execution_count": 38,
   "metadata": {},
   "outputs": [
    {
     "data": {
      "text/plain": [
       "5"
      ]
     },
     "execution_count": 38,
     "metadata": {},
     "output_type": "execute_result"
    }
   ],
   "source": [
    "nx.number_strongly_connected_components(A)"
   ]
  },
  {
   "cell_type": "code",
   "execution_count": 39,
   "metadata": {},
   "outputs": [],
   "source": [
    "# This is undirected graph for comparison\n",
    "A_U = nx.Graph()\n",
    "for k in range(0,Airport_Codes.shape[0],1):\n",
    "    A_U.add_edge(int(Airport_Codes['From'][k]),int(Airport_Codes['To'][k]))"
   ]
  },
  {
   "cell_type": "code",
   "execution_count": 40,
   "metadata": {},
   "outputs": [
    {
     "data": {
      "text/plain": [
       "405"
      ]
     },
     "execution_count": 40,
     "metadata": {},
     "output_type": "execute_result"
    }
   ],
   "source": [
    "len(A_U.nodes())"
   ]
  },
  {
   "cell_type": "code",
   "execution_count": 41,
   "metadata": {},
   "outputs": [
    {
     "data": {
      "text/plain": [
       "405"
      ]
     },
     "execution_count": 41,
     "metadata": {},
     "output_type": "execute_result"
    }
   ],
   "source": [
    "len(A.nodes())"
   ]
  },
  {
   "cell_type": "markdown",
   "metadata": {},
   "source": [
    "### Exploring Connectedness"
   ]
  },
  {
   "cell_type": "code",
   "execution_count": 42,
   "metadata": {},
   "outputs": [],
   "source": [
    "# For this particular lets explore the clustering.\n",
    "# This is a directed graph, so total possible formula would be different.\n",
    "\n",
    "ClusteringCoeffs = nx.clustering(A)\n"
   ]
  },
  {
   "cell_type": "code",
   "execution_count": 43,
   "metadata": {},
   "outputs": [
    {
     "data": {
      "image/png": "[encoded data removed]",
      "text/plain": [
       "<Figure size 432x288 with 1 Axes>"
      ]
     },
     "metadata": {
      "needs_background": "light"
     },
     "output_type": "display_data"
    }
   ],
   "source": [
    "plt.hist(ClusteringCoeffs.values())\n",
    "plt.show()\n",
    "\n",
    "#This shows for most there are more that half of the possible directed edges in the neighbours, ie it is interconnected."
   ]
  },
  {
   "cell_type": "code",
   "execution_count": 44,
   "metadata": {},
   "outputs": [
    {
     "data": {
      "text/plain": [
       "0.6097876398260947"
      ]
     },
     "execution_count": 44,
     "metadata": {},
     "output_type": "execute_result"
    }
   ],
   "source": [
    "#Just considering connections and not the number of passengers (Weight)\n",
    "nx.average_clustering(A)"
   ]
  },
  {
   "cell_type": "code",
   "execution_count": 45,
   "metadata": {},
   "outputs": [],
   "source": [
    "#Degree distribution // Could use less objects\n",
    "deg = np.array(nx.degree(A))\n",
    "InD = np.array(A.in_degree(nx.nodes(A)))\n",
    "OutD = np.array(A.out_degree(nx.nodes(A)))\n",
    "\n",
    "deg_c = []\n",
    "InD_c = []\n",
    "OutD_c = []\n",
    "\n",
    "for i in range(0,len(deg),1):\n",
    "    deg_c = np.append(deg_c,deg[i][1])\n",
    "    InD_c = np.append(InD_c,InD[i][1])\n",
    "    OutD_c = np.append(OutD_c,OutD[i][1])"
   ]
  },
  {
   "cell_type": "code",
   "execution_count": 46,
   "metadata": {},
   "outputs": [
    {
     "data": {
      "image/png": "[encoded data removed]",
      "text/plain": [
       "<Figure size 432x288 with 1 Axes>"
      ]
     },
     "metadata": {
      "needs_background": "light"
     },
     "output_type": "display_data"
    }
   ],
   "source": [
    "plt.hist(InD_c)\n",
    "plt.show()"
   ]
  },
  {
   "cell_type": "code",
   "execution_count": 47,
   "metadata": {},
   "outputs": [
    {
     "data": {
      "image/png": "[encoded data removed]",
      "text/plain": [
       "<Figure size 432x288 with 1 Axes>"
      ]
     },
     "metadata": {
      "needs_background": "light"
     },
     "output_type": "display_data"
    }
   ],
   "source": [
    "plt.hist(OutD_c)\n",
    "plt.show()"
   ]
  },
  {
   "cell_type": "code",
   "execution_count": 48,
   "metadata": {},
   "outputs": [
    {
     "data": {
      "image/png": "[encoded data removed]",
      "text/plain": [
       "<Figure size 432x288 with 1 Axes>"
      ]
     },
     "metadata": {
      "needs_background": "light"
     },
     "output_type": "display_data"
    }
   ],
   "source": [
    "plt.hist(deg_c)\n",
    "plt.show()"
   ]
  },
  {
   "cell_type": "code",
   "execution_count": 49,
   "metadata": {},
   "outputs": [
    {
     "name": "stdout",
     "output_type": "stream",
     "text": [
      "Airport with max connections- 360.0 \n",
      "       id code    city        lat         lon\n",
      "104  389  DEN  Denver  39.765278 -104.879444 \n",
      "\n",
      "Airport with max in-connections- 172.0 \n",
      "       id code    city        lat         lon\n",
      "104  389  DEN  Denver  39.765278 -104.879444 \n",
      "\n",
      "Airport with max out-connections- 188.0 \n",
      "       id code    city        lat         lon\n",
      "104  389  DEN  Denver  39.765278 -104.879444 \n",
      "\n"
     ]
    }
   ],
   "source": [
    "#There could be if else case statement, also the print could be better\n",
    "for i in range(0,len(deg_c),1):\n",
    "    if (deg[i][1] == max(deg_c)):\n",
    "        d = deg[i][0]\n",
    "\n",
    "    if (InD[i][1] == max(InD_c)):\n",
    "        j = InD[i][0]\n",
    "\n",
    "    if (OutD[i][1] == max(OutD_c)):\n",
    "        o = OutD[i][0]\n",
    "\n",
    "\n",
    "print('Airport with max connections-',max(deg_c),'\\n',Airport_Loc[Airport_Loc['id'] == d],'\\n')\n",
    "print('Airport with max in-connections-',max(InD_c),'\\n',Airport_Loc[Airport_Loc['id'] == j],'\\n')\n",
    "print('Airport with max out-connections-', max(OutD_c),'\\n', Airport_Loc[Airport_Loc['id'] == o],'\\n')"
   ]
  },
  {
   "cell_type": "code",
   "execution_count": 50,
   "metadata": {},
   "outputs": [],
   "source": [
    "#To Do >> Log Log plot"
   ]
  },
  {
   "cell_type": "code",
   "execution_count": 51,
   "metadata": {},
   "outputs": [],
   "source": [
    "#Lets calculate centrality measurese, this is a directed graph\n",
    "Components_airports = list(nx.strongly_connected_components(A))"
   ]
  },
  {
   "cell_type": "code",
   "execution_count": 52,
   "metadata": {},
   "outputs": [],
   "source": [
    "#Degrees here are not very clear in this directed graph\n",
    "\n",
    "SubGraph_Len = []\n",
    "\n",
    "#for k in Components_airports:\n",
    "    \n",
    "   # print(len(A.subgraph(k).in()))\n",
    "    \n",
    "    #print(len(nx.subgraph(k).nodes()))\n",
    "  #  SubGraph_Len = np.append(SubGraph_Len, len(k))\n",
    "#This would give length of subgraph, which would essentially be the number of nodes.\n",
    "    "
   ]
  },
  {
   "cell_type": "markdown",
   "metadata": {},
   "source": [
    "### Paths"
   ]
  },
  {
   "cell_type": "code",
   "execution_count": 53,
   "metadata": {},
   "outputs": [],
   "source": [
    "Source = 1437 #San Fransisco\n",
    "Target = 500  #New York"
   ]
  },
  {
   "cell_type": "code",
   "execution_count": 54,
   "metadata": {},
   "outputs": [],
   "source": [
    "# Possible paths\n",
    "#Path_List = nx.all_simple_paths(A,29,30)\n",
    "#Path_List_R = nx.all_simple_paths(A,1437,500) #As this is directed graph"
   ]
  },
  {
   "cell_type": "code",
   "execution_count": 55,
   "metadata": {},
   "outputs": [],
   "source": [
    "def k_shortest_paths(G, source, target,k):\n",
    "    return list(islice(nx.shortest_simple_paths(G, source, target), k))"
   ]
  },
  {
   "cell_type": "code",
   "execution_count": 56,
   "metadata": {},
   "outputs": [],
   "source": [
    "#Calculating all the paths is intense, mainly due to connectedness\n",
    "Paths = k_shortest_paths(A,Source,Target,10)"
   ]
  },
  {
   "cell_type": "code",
   "execution_count": 57,
   "metadata": {},
   "outputs": [],
   "source": [
    "edges_p = pd.DataFrame()\n",
    "nodes_p = []\n",
    "pos = 0\n",
    "for i in Paths:\n",
    "\n",
    "    for k in range(0,len(i)-1,1):\n",
    "         edges_p[pos] = [i[k],i[k+1]]\n",
    "         pos = pos + 1\n",
    "    \n",
    "    for j in i:\n",
    "        nodes_p = np.append(nodes_p, j)\n",
    "\n",
    "edges_p = edges_p.transpose()"
   ]
  },
  {
   "cell_type": "code",
   "execution_count": 58,
   "metadata": {},
   "outputs": [
    {
     "data": {
      "text/html": [
       "<div>\n",
       "<style scoped>\n",
       "    .dataframe tbody tr th:only-of-type {\n",
       "        vertical-align: middle;\n",
       "    }\n",
       "\n",
       "    .dataframe tbody tr th {\n",
       "        vertical-align: top;\n",
       "    }\n",
       "\n",
       "    .dataframe thead th {\n",
       "        text-align: right;\n",
       "    }\n",
       "</style>\n",
       "<table border=\"1\" class=\"dataframe\">\n",
       "  <thead>\n",
       "    <tr style=\"text-align: right;\">\n",
       "      <th></th>\n",
       "      <th>From</th>\n",
       "      <th>To</th>\n",
       "    </tr>\n",
       "  </thead>\n",
       "  <tbody>\n",
       "    <tr>\n",
       "      <th>0</th>\n",
       "      <td>1437</td>\n",
       "      <td>500</td>\n",
       "    </tr>\n",
       "    <tr>\n",
       "      <th>1</th>\n",
       "      <td>1437</td>\n",
       "      <td>32</td>\n",
       "    </tr>\n",
       "    <tr>\n",
       "      <th>2</th>\n",
       "      <td>32</td>\n",
       "      <td>500</td>\n",
       "    </tr>\n",
       "    <tr>\n",
       "      <th>3</th>\n",
       "      <td>1437</td>\n",
       "      <td>75</td>\n",
       "    </tr>\n",
       "    <tr>\n",
       "      <th>4</th>\n",
       "      <td>75</td>\n",
       "      <td>500</td>\n",
       "    </tr>\n",
       "  </tbody>\n",
       "</table>\n",
       "</div>"
      ],
      "text/plain": [
       "   From   To\n",
       "0  1437  500\n",
       "1  1437   32\n",
       "2    32  500\n",
       "3  1437   75\n",
       "4    75  500"
      ]
     },
     "execution_count": 58,
     "metadata": {},
     "output_type": "execute_result"
    }
   ],
   "source": [
    "edges_p.columns = ['From','To']\n",
    "edges_p.head()"
   ]
  },
  {
   "cell_type": "code",
   "execution_count": 59,
   "metadata": {},
   "outputs": [],
   "source": [
    "Path_Graph = nx.DiGraph()"
   ]
  },
  {
   "cell_type": "code",
   "execution_count": 60,
   "metadata": {},
   "outputs": [],
   "source": [
    "for i in nodes_p:\n",
    "    Path_Graph.add_node(i)\n",
    "\n",
    "for j in range(0, edges_p.shape[0],1):\n",
    "    Path_Graph.add_edge(edges_p['From'][j],edges_p['To'][j])"
   ]
  },
  {
   "cell_type": "code",
   "execution_count": 61,
   "metadata": {},
   "outputs": [],
   "source": [
    "# There would be a faster way here\n",
    "\n",
    "Path_Graph.code = {}\n",
    "Path_Graph.pos = {}\n",
    "counter = 0\n",
    "\n",
    "for j in range(0,len(Path_Graph.nodes()),1):\n",
    "    node = np.array(Path_Graph.nodes())[j]\n",
    "    \n",
    "    for k in range(0,Airport_Loc.shape[0],1):\n",
    "        counter = counter + 1\n",
    "        if(node == Airport_Loc['id'][k]):\n",
    "            Path_Graph.code[node] = Airport_Loc['code'][k]\n",
    "            Path_Graph.pos[node] = (float(Airport_Loc['lon'][k]), float(Airport_Loc['lat'][k]))"
   ]
  },
  {
   "cell_type": "code",
   "execution_count": 62,
   "metadata": {},
   "outputs": [],
   "source": [
    "Path_Graph_Shortest = nx.DiGraph()\n",
    "Shortest_Path = nx.shortest_path(A, Source, Target)"
   ]
  },
  {
   "cell_type": "code",
   "execution_count": 63,
   "metadata": {},
   "outputs": [],
   "source": [
    "for t in Shortest_Path:\n",
    "    Path_Graph_Shortest.add_node(t)\n",
    "\n",
    "#This is specific here as there is direct flight\n",
    "Path_Graph_Shortest.add_edge(Source,Target)"
   ]
  },
  {
   "cell_type": "code",
   "execution_count": 64,
   "metadata": {},
   "outputs": [],
   "source": [
    "Path_Graph_Shortest.code = {}\n",
    "Path_Graph_Shortest.pos = {}\n",
    "Path_Graph_Shortest.label = {}\n",
    "counter = 0\n",
    "\n",
    "for j in range(0,len(Path_Graph_Shortest.nodes()),1):\n",
    "    node = np.array(Path_Graph_Shortest.nodes())[j]\n",
    "    \n",
    "    for k in range(0,Airport_Loc.shape[0],1):\n",
    "        counter = counter + 1\n",
    "        if(node == Airport_Loc['id'][k]):\n",
    "            Path_Graph_Shortest.code[node] = Airport_Loc['code'][k]\n",
    "            Path_Graph_Shortest.pos[node] = (float(Airport_Loc['lon'][k]), float(Airport_Loc['lat'][k]))\n",
    "            Path_Graph_Shortest.label[node] = Airport_Loc['code'][k]"
   ]
  },
  {
   "cell_type": "code",
   "execution_count": 65,
   "metadata": {},
   "outputs": [
    {
     "data": {
      "image/png": "[encoded data removed]",
      "text/plain": [
       "<Figure size 1080x576 with 1 Axes>"
      ]
     },
     "metadata": {},
     "output_type": "display_data"
    }
   ],
   "source": [
    "fig = plt.figure(figsize=(15,8))\n",
    "\n",
    "nx.draw_networkx_nodes(A, pos = A.pos, node_size=20, node_color='#000000', alpha=0.4)\n",
    "#nx.draw_networkx_labels(A,pos=A.pos,labels=A.code)\n",
    "\n",
    "nx.draw_networkx_nodes(Path_Graph, pos = Path_Graph.pos, node_size=70, node_color='Orange')\n",
    "nx.draw_networkx_edges(Path_Graph,pos = Path_Graph.pos, edge_color='Orange', alpha= 0.7)\n",
    "\n",
    "\n",
    "nx.draw_networkx_nodes(Path_Graph_Shortest, pos = Path_Graph_Shortest.pos, node_size=170, node_color='Red')\n",
    "nx.draw_networkx_edges(Path_Graph_Shortest,pos = Path_Graph_Shortest.pos, edge_color='Blue', width=3.5)\n",
    "nx.draw_networkx_labels(Path_Graph_Shortest,pos = Path_Graph_Shortest.pos, labels= Path_Graph_Shortest.label, font_color='Black', font_weight='bold', font_size = 18)\n",
    "\n",
    "plt.axis('off')\n",
    "plt.show()"
   ]
  },
  {
   "cell_type": "markdown",
   "metadata": {},
   "source": [
    "## Rough"
   ]
  },
  {
   "cell_type": "code",
   "execution_count": 66,
   "metadata": {},
   "outputs": [],
   "source": [
    "Node_Len.sort()"
   ]
  },
  {
   "cell_type": "code",
   "execution_count": 67,
   "metadata": {},
   "outputs": [
    {
     "data": {
      "text/plain": [
       "(array([141., 120.,  17.,   3.,   4.,   2.,   1.,   0.,   0.,   1.]),\n",
       " array([ 1. ,  2.7,  4.4,  6.1,  7.8,  9.5, 11.2, 12.9, 14.6, 16.3, 18. ]),\n",
       " <BarContainer object of 10 artists>)"
      ]
     },
     "execution_count": 67,
     "metadata": {},
     "output_type": "execute_result"
    },
    {
     "data": {
      "image/png": "[encoded data removed]",
      "text/plain": [
       "<Figure size 432x288 with 1 Axes>"
      ]
     },
     "metadata": {
      "needs_background": "light"
     },
     "output_type": "display_data"
    }
   ],
   "source": [
    "plt.hist(Node_Len[0:289])"
   ]
  },
  {
   "cell_type": "code",
   "execution_count": 68,
   "metadata": {},
   "outputs": [],
   "source": [
    "t = nx.nodes(A)"
   ]
  },
  {
   "cell_type": "code",
   "execution_count": 69,
   "metadata": {},
   "outputs": [
    {
     "data": {
      "text/plain": [
       "array([  29,   78,  114,  117,  134,  169,  206,  296,  300,  311,  317,\n",
       "        381,  391,  403,  432,  435,  489,  526,  534,  609,  610,  619,\n",
       "        691,  709,  716,  727,  731,  760,  880,  899,  918,  978,  982,\n",
       "        994, 1022, 1029, 1066, 1101, 1200, 1252, 1264, 1313, 1359, 1374,\n",
       "       1391, 1435, 1504, 1517, 1628, 1700,   30,  478,  590,  719, 1461,\n",
       "       1470,   32,   75,   76,   82,  123,  145,  158,  176,  211,  215,\n",
       "        216,  239,  246,  321,  327,  334,  343,  356,  358,  389,  494,\n",
       "        500,  507,  585,  595,  622,  677,  685,  686,  711,  718,  749,\n",
       "        757,  874,  875,  877,  879,  964,  998, 1011, 1047, 1061, 1068,\n",
       "       1072, 1176, 1185, 1201, 1231, 1240, 1255, 1297, 1304, 1320, 1353,\n",
       "       1372, 1403, 1405, 1408, 1413, 1426, 1433, 1437, 1480, 1529, 1596,\n",
       "       1613, 1630,   33,  118,   35,  598,   38,  498,  700,  702, 1090,\n",
       "         39,  335,  536,  872, 1008, 1629, 1645,   40,  196,  271, 1350,\n",
       "         41,   60,  256,  258,  344,  361,  375,  508,  560,  613,  618,\n",
       "        635,  780,  926, 1043, 1202, 1250, 1328, 1376, 1406, 1549, 1611,\n",
       "       1617, 1795,   52,  345,  371,  588,  936,  988, 1016, 1411, 1438,\n",
       "        217,  605, 1004, 1450, 1752,   63,  234,  623,  981, 1025,   64,\n",
       "        155, 1263,  106,  127,  237,  293,  759,  972, 1027, 1069, 1161,\n",
       "       1172, 1277, 1390, 1631,  506, 1091,   79,   80,  876,   96,  100,\n",
       "        101,  303,  108,  758,  126,  149,  204,  251,  285,  290,  313,\n",
       "        396,  462,  496,  499,  502,  510,  527,  548,  626,  648,  655,\n",
       "        901,  953,  959,  992, 1023, 1033, 1065, 1075, 1219, 1244, 1251,\n",
       "       1256, 1259, 1540, 1696, 1339, 1417, 1527,  120,  164,  167,  265,\n",
       "        307,  325,  669, 1401, 1497, 1626,  191, 1269,  940,  154,  437,\n",
       "        524,  769,  747,  881, 1432, 1352, 1484,  163,  667,  693, 1067,\n",
       "        525,  574,  582,  592,  701,  957, 1032, 1180, 1449,  179,  337,\n",
       "        182,  492,  544, 1420,  476,  611,  752, 1053,  956, 1000, 1318,\n",
       "       1524,  894, 1289, 1319, 1364, 1395, 1473,  219,  221,  224,  233,\n",
       "       1644, 1302, 1267, 1351,  653,  927,  322, 1257, 1641,  268,  278,\n",
       "        530,  549,  299,  870,  983, 1006,  310, 1414,  330,  480,  331,\n",
       "        888,  450, 1365, 1738,  382,  386,  572,  575,  387,  397,  428,\n",
       "        448,  680,  706,  721,  883,  979, 1092, 1245, 1292, 1362, 1500,\n",
       "       1576, 1636, 1685,  577, 1382,  732, 1655,  491,  729,  441,  773,\n",
       "        449, 1788, 1358,  471,  473, 1821,  314, 1216,  520,  535,  607,\n",
       "        657, 1632,  682, 1723,  687, 1474, 1445, 1681,  925, 1044, 1512,\n",
       "        738,  739,  744,  755,  761,  771, 1563,  975, 1214, 1691, 1210,\n",
       "       1222,  971, 1225, 1074, 1182, 1347, 1239, 1442, 1748])"
      ]
     },
     "execution_count": 69,
     "metadata": {},
     "output_type": "execute_result"
    }
   ],
   "source": [
    "np.array(t)"
   ]
  }
 ],
 "metadata": {
  "kernelspec": {
   "display_name": "Python 3.10.0 ('NetworkAnalysis')",
   "language": "python",
   "name": "python3"
  },
  "language_info": {
   "codemirror_mode": {
    "name": "ipython",
    "version": 3
   },
   "file_extension": ".py",
   "mimetype": "text/x-python",
   "name": "python",
   "nbconvert_exporter": "python",
   "pygments_lexer": "ipython3",
   "version": "3.10.0"
  },
  "orig_nbformat": 4,
  "vscode": {
   "interpreter": {
    "hash": "5aaaf988310259ef3f35604fa24ef43abcfe7921b40338c44f4c2b1877d3f647"
   }
  }
 },
 "nbformat": 4,
 "nbformat_minor": 2
}
